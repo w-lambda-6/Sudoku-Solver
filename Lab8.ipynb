{
  "nbformat": 4,
  "nbformat_minor": 0,
  "metadata": {
    "colab": {
      "provenance": []
    },
    "kernelspec": {
      "name": "python3",
      "display_name": "Python 3"
    },
    "language_info": {
      "name": "python"
    }
  },
  "cells": [
    {
      "cell_type": "markdown",
      "source": [
        "###**Sudoku Game Solver: One Agent, Many Constraints**"
      ],
      "metadata": {
        "id": "qCH77sB5FZLU"
      }
    },
    {
      "cell_type": "markdown",
      "source": [
        "Simple program to solve any **sudoku** problem (https://en.wikipedia.org/wiki/Sudoku). This program plays the game as a computer player using AI algorithms. It accomplishes the following:\n",
        "  - Starts the game with a random 4 x 4 sudoku board input by the user (we said 9 x 9 in Exercise 7 but it is just too time consuming and meaningless to make such a big board. As an AI, if it has intelligence to solve 4 x 4 sudoku, then it should be able to also solve 9 x 9 sudoku since the constraints are the same we just need to change a few numbers)\n",
        "  - Tries to use all 7 uninformed and informed search algorithms in the lecture individually to solve the problem (some just don't work, couldn't be implemented)\n",
        "  - Stops when the problem is solved,and the unique solution reached, prints out the final solution"
      ],
      "metadata": {
        "id": "ExCJ0dcjFmfA"
      }
    },
    {
      "cell_type": "markdown",
      "source": [
        "### **Define the game logic and all relevant functions**\n",
        "  1. `validMove(board, move)` checks if the move is valid or not, is also the function that introduces most of the rules to the agent\n",
        "  2. `createBoard()` creates a blank board waiting for the user to input the initial state in\n",
        "  3. `printBoard(board)` prints out the current state of the board intput to this function\n",
        "  4. `updateBoard(board, position, symbol)` takes in the board, the position on the board and the number to be put into that position\n",
        "  5. `inputBoard(board)` gets user input for the initial state of the problem\n",
        "  \n"
      ],
      "metadata": {
        "id": "znyOxhwPEhHe"
      }
    },
    {
      "cell_type": "code",
      "source": [
        "def create_board():\n",
        "    ''' Creates a blank 4x4 Sudoku board\n",
        "    '''\n",
        "    board = [[\" \" for _ in range(4)] for _ in range(4)]\n",
        "    return board\n",
        "\n",
        "\n",
        "def print_board(board):\n",
        "    ''' Prints the 4x4 Sudoku board\n",
        "    '''\n",
        "    print()\n",
        "    for i in range(4):\n",
        "        print(\" \", end=\"\")\n",
        "        for j in range(4):\n",
        "            print(board[i][j], end=\" \")\n",
        "            if (j + 1) % 2 == 0 and j != 3:\n",
        "                print(\"|\", end=\" \")\n",
        "        print()\n",
        "        if (i + 1) % 2 == 0 and i != 3:\n",
        "            print(\"----+----\")\n",
        "    print()\n",
        "\n",
        "def update_board(board, row, col, symbol):\n",
        "    ''' Updates the 4x4 Sudoku board\n",
        "    '''\n",
        "    if board[row][col] == \" \":\n",
        "        board[row][col] = symbol\n",
        "    else:\n",
        "        print(\"Position already filled. Please choose another position.\")\n",
        "\n",
        "#=====================================================================================#\n",
        "\n",
        "#functions for the humans to input the initial state of the problem\n",
        "\n",
        "def inputBoard(board):\n",
        "    choice = 0\n",
        "    while choice != -1:\n",
        "        row = int(input(\"Input the row (1-4): \")) - 1  # Adjusting for zero-based indexing\n",
        "        column = int(input(\"Input the column (1-4): \")) - 1  # Adjusting for zero-based indexing\n",
        "        number = int(input(\"Input the number (1-4): \"))\n",
        "        if 0 <= row <= 3 and 0 <= column <= 3 and 1 <= number <= 4:\n",
        "            update_board(board, row, column, str(number))\n",
        "            choice = int(input(\"To continue input, choose 0. To stop input, choose -1: \"))\n",
        "        else:\n",
        "            print(\"Invalid input. Please input row, column, and number in the range 1-4.\")\n",
        "\n",
        "    print(\"Input stopped.\")\n",
        "\n",
        "\n",
        "#=====================================================================================#\n",
        "\n",
        "#so this sets the rules\n",
        "def valid_move(board, move):\n",
        "  valid = True\n",
        "  row, col, num = move\n",
        "  num = str(num)\n",
        "  for i in range(4):\n",
        "    if (board[row][i] == num):\n",
        "      valid = False\n",
        "      return valid\n",
        "  for j in range(4):\n",
        "    if (board[j][col] == num):\n",
        "      valid = False\n",
        "      return valid\n",
        "\n",
        "  # Check if the number already exists in the 2x2 square\n",
        "  start_row = (row // 2) * 2  # Find the starting row index of the square\n",
        "  start_col = (col // 2) * 2  # Find the starting column index of the square\n",
        "  for i in range(start_row, start_row + 2):\n",
        "      for j in range(start_col, start_col + 2):\n",
        "          if board[i][j] == num:\n",
        "            valid = False\n",
        "            return valid\n",
        "\n",
        "  return valid\n"
      ],
      "metadata": {
        "id": "7T2f1O5RJHmJ"
      },
      "execution_count": null,
      "outputs": []
    },
    {
      "cell_type": "markdown",
      "source": [
        "### **The search algorithms:**"
      ],
      "metadata": {
        "id": "H6u_lpJkDS2_"
      }
    },
    {
      "cell_type": "markdown",
      "source": [
        "### 1. Breadth first search\n",
        "\n",
        "- Cannot be implemented\n",
        "- It is not suited for CSP problems such as this naturally\n",
        "- Doesn't take into account the fact that sudoku requires rows, columns and blocks can't have the same number\n",
        "- Suppose the agent starts at a filled slot and does BFS first on all the slots around it. As it does the same thing to the slots it searches by nature, the slots will all be filled with the same number which violates the rules of sudoku"
      ],
      "metadata": {
        "id": "fwiYEbzbN9AU"
      }
    },
    {
      "cell_type": "markdown",
      "source": [
        "### 2. Uniform-cost search\n",
        " - Uniform-cost search expands nodes based on their path cost from the start node. However, in Sudoku, the path cost between nodes is uniform since each step or transition between states (placing a number in a cell) has the same cost. Hence, using uniform-cost search in Sudoku would essentially reduce to a breadth-first or depth-first search because all transitions have the same cost."
      ],
      "metadata": {
        "id": "Jt4EkHeePDKF"
      }
    },
    {
      "cell_type": "markdown",
      "source": [
        "### 3. Depth-first search\n",
        "\n",
        " - First defines a stack data structure with method push(adds to the top of the stack), pop(removes the top item from the stack), and is_empty(tells if the stack is really empty or not)\n",
        " - `is_board_solved` helper function checks if the sudoku problem on the given board is solved or not\n",
        " - `find_empty_cell` helper function that helps to find an empty cell on a given board"
      ],
      "metadata": {
        "id": "uaVQvD51-9bI"
      }
    },
    {
      "cell_type": "code",
      "source": [
        "class Stack:\n",
        "    def __init__(self):\n",
        "        self.stack = []\n",
        "\n",
        "    def push(self, item):\n",
        "        self.stack.append(item)\n",
        "\n",
        "    def pop(self):\n",
        "        if not self.is_empty():\n",
        "            return self.stack.pop()\n",
        "        else:\n",
        "            return None\n",
        "\n",
        "    def is_empty(self):\n",
        "        return len(self.stack) == 0\n",
        "\n",
        "\n",
        "def dfs_solve(board):\n",
        "    stack = Stack()\n",
        "    stack.push(board)\n",
        "\n",
        "    while not stack.is_empty():\n",
        "        current_board = stack.pop()\n",
        "\n",
        "        # Check if the board is solved\n",
        "        if is_board_solved(current_board):\n",
        "            print(\"Solution found:\")\n",
        "            print_board(current_board)\n",
        "            return current_board\n",
        "\n",
        "        # Find an empty cell on the board\n",
        "        empty_cell = find_empty_cell(current_board)\n",
        "        if empty_cell is None:\n",
        "            continue  # No empty cells found, backtrack\n",
        "\n",
        "        row, col = empty_cell\n",
        "\n",
        "        # Try all possible numbers in the empty cell\n",
        "        for num in range(1, 5):\n",
        "            if valid_move(current_board, (row, col, num)):\n",
        "                # Make a copy of the current board and update it with the new move\n",
        "                new_board = [row[:] for row in current_board]\n",
        "                update_board(new_board, row, col, str(num))\n",
        "                stack.push(new_board)\n",
        "\n",
        "    print(\"No solution found.\")\n",
        "    return None\n",
        "\n",
        "\n",
        "def is_board_solved(board):\n",
        "    for row in board:\n",
        "        if \" \" in row:\n",
        "            return False\n",
        "    return True\n",
        "\n",
        "\n",
        "def find_empty_cell(board):\n",
        "    for i in range(4):\n",
        "        for j in range(4):\n",
        "            if board[i][j] == \" \":\n",
        "                return i, j\n",
        "    return None"
      ],
      "metadata": {
        "id": "Px7SNVFn_Dzf"
      },
      "execution_count": null,
      "outputs": []
    },
    {
      "cell_type": "markdown",
      "source": [
        "### 4.Depth-limited search\n",
        " - In certain scenarios, the depth limit chosen for DLS may be too small to reach a solution, resulting in a failure to find a solution even though one exists at a deeper level. Conversely, if the depth limit is set too high, DLS effectively behaves the same as DFS, exploring the entire state space until a solution is found or until the maximum depth is reached.\n",
        "\n",
        " - While DLS can be useful in scenarios where the depth of the state space is known and the search needs to be bounded within a certain depth level, it may not be suitable for solving problems with unknown or variable-depth state spaces like Sudoku puzzles."
      ],
      "metadata": {
        "id": "_VvAMLPmn0EV"
      }
    },
    {
      "cell_type": "markdown",
      "source": [
        "### 5. Iterative deepening search\n",
        "- Iterative Deepening Search is the same as a Depth-Limited Search, but with a dynamically changing depth limit. This addresses the variable-state depth limitation that Depth-Limited Search has.\n",
        "- A problem arises when applying this in the case of sudoku, as the goal node is guaranteed to only be found at the lowest depth, signifying a board with every position filled. This means that the iterative deepening will always deepen all the way to the lowest depth, and as discussed above, makes the algorithm effectively the same as a DFS.\n"
      ],
      "metadata": {
        "id": "tK4IEQHgn-F8"
      }
    },
    {
      "cell_type": "markdown",
      "source": [
        "### 6. Greedy Search\n",
        "\n",
        "- An algorithm goes through every position and counts the number of possible answers in each position of the board.\n",
        "\n",
        "- The number of possible answers in each position serves as a heuristic for the Depth First Search Algorithm, and the search algorithm works on the least positions with the least number of possible answers first.\n",
        "\n",
        "- This reduces the amount of times the DFS has to backtrack when finding for the solution."
      ],
      "metadata": {
        "id": "r3Fhc0MqoDZy"
      }
    },
    {
      "cell_type": "code",
      "source": [
        "from collections import OrderedDict\n",
        "\n",
        "def valid_move(board, move):\n",
        "  valid = True\n",
        "  row, col, num = move\n",
        "  num = str(num)\n",
        "  for i in range(4):\n",
        "    if (board[row][i] == num):\n",
        "      valid = False\n",
        "      return valid\n",
        "  for j in range(4):\n",
        "    if (board[j][col] == num):\n",
        "      valid = False\n",
        "      return valid\n",
        "\n",
        "  # Check if the number already exists in the 2x2 square\n",
        "  start_row = (row // 2) * 2  # Find the starting row index of the square\n",
        "  start_col = (col // 2) * 2  # Find the starting column index of the square\n",
        "  for i in range(start_row, start_row + 2):\n",
        "      for j in range(start_col, start_col + 2):\n",
        "          if board[i][j] == num:\n",
        "            valid = False\n",
        "            return valid\n",
        "\n",
        "  return valid\n",
        "\n",
        "def allowedNumbers(board):\n",
        "\n",
        "  allow_list = {}\n",
        "\n",
        "  for i in range(4):\n",
        "    for j in range(4):\n",
        "      for k in range(4):\n",
        "        move = (i,j,k)\n",
        "        if (valid_move(board,move) == True):\n",
        "          allow_list[(i,j)]=[]\n",
        "          allow_list[(i,j)].append(k)\n",
        "\n",
        "  return allow_list;\n",
        "\n",
        "def greedy_solve(board):\n",
        "\n",
        "    stack = Stack()\n",
        "    heur = allowedNumbers(board)\n",
        "    #sort dict by list length\n",
        "    res = OrderedDict(sorted(heur.items(), key = lambda x : len(x[1]))).keys()\n",
        "\n",
        "    for item in res :\n",
        "      stack.push(board)\n",
        "\n",
        "    while not stack.is_empty():\n",
        "        current_board = stack.pop()\n",
        "\n",
        "        # Check if the board is solved\n",
        "        if is_board_solved(current_board):\n",
        "            print(\"Solution found:\")\n",
        "            print_board(current_board)\n",
        "            return current_board\n",
        "\n",
        "        # Find an empty cell on the board\n",
        "        empty_cell = find_empty_cell(current_board)\n",
        "        if empty_cell is None:\n",
        "            continue  # No empty cells found, backtrack\n",
        "\n",
        "        row, col = empty_cell\n",
        "\n",
        "        # Try all possible numbers in the empty cell\n",
        "        for num in range(1, 5):\n",
        "            if valid_move(current_board, (row, col, num)):\n",
        "                # Make a copy of the current board and update it with the new move\n",
        "                new_board = [row[:] for row in current_board]\n",
        "                update_board(new_board, row, col, str(num))\n",
        "                stack.push(new_board)\n",
        "\n",
        "    print(\"No solution found.\")\n",
        "    return None\n"
      ],
      "metadata": {
        "id": "_V3VM-DHoKcC"
      },
      "execution_count": null,
      "outputs": []
    },
    {
      "cell_type": "markdown",
      "source": [
        "### 7. A* Search\n",
        "\n",
        " - A* Search is a mixture of Greedy Search and Uniform Cost Search. However, as earlier discussed, in sudoku, the path cost between nodes is uniform since each step or transition between states (placing a number in a cell) has the same cost. This reduces the A* search into simply a Greedy Search, which is demonstrated above."
      ],
      "metadata": {
        "id": "pkcCHcoioLNo"
      }
    },
    {
      "cell_type": "markdown",
      "source": [
        "### **The agent:**"
      ],
      "metadata": {
        "id": "CUqgOfE9DjCg"
      }
    },
    {
      "cell_type": "code",
      "source": [
        "def sudoku_agent():\n",
        "  ''' The main function for the agent\n",
        "  '''\n",
        "  # Introduction\n",
        "  print(\"Welcome to 4X4 sudoku solver, please input a valid sudoku puzzle to the agent\")\n",
        "  print(\"To end your input, type in -1\")\n",
        "\n",
        "  # Initiate the game\n",
        "  game_board = create_board()\n",
        "  inputBoard(game_board)\n",
        "  print_board(game_board)\n",
        "\n",
        "  # Solving the game\n",
        "  solution = 0\n",
        "  solution = int(input(\"Select the search algorithm you want to use: 1-DFS, 2-Greedy Search\"))\n",
        "  if solution == 1:\n",
        "    dfs_solve(game_board)\n",
        "  elif solution == 2:\n",
        "    greedy_solve(game_board)\n",
        "  else:\n",
        "    print(\"Invalid input.\")"
      ],
      "metadata": {
        "id": "fr_HvO5YDoIU"
      },
      "execution_count": null,
      "outputs": []
    },
    {
      "cell_type": "markdown",
      "source": [
        "### **Testing:**"
      ],
      "metadata": {
        "id": "Hn4zq38-HlWj"
      }
    },
    {
      "cell_type": "code",
      "source": [
        "sudoku_agent()"
      ],
      "metadata": {
        "colab": {
          "base_uri": "https://localhost:8080/"
        },
        "id": "CqC9Ly_-IhFx",
        "outputId": "34b6cb8a-6631-4c42-ee7d-318931cebd25"
      },
      "execution_count": null,
      "outputs": [
        {
          "output_type": "stream",
          "name": "stdout",
          "text": [
            "Welcome to 4X4 sudoku solver, please input a valid sudoku puzzle to the agent\n",
            "To end your input, type in -1\n",
            "Input the row (1-4): 1\n",
            "Input the column (1-4): 1\n",
            "Input the number (1-4): 1\n",
            "To continue input, choose 0. To stop input, choose -1: 0\n",
            "Input the row (1-4): 2\n",
            "Input the column (1-4): 2\n",
            "Input the number (1-4): 3\n",
            "To continue input, choose 0. To stop input, choose -1: 0\n",
            "Input the row (1-4): 2\n",
            "Input the column (1-4): 3\n",
            "Input the number (1-4): 1\n",
            "To continue input, choose 0. To stop input, choose -1: 0\n",
            "Input the row (1-4): 2\n",
            "Input the column (1-4): 4\n",
            "Input the number (1-4): 2\n",
            "To continue input, choose 0. To stop input, choose -1: 0\n",
            "Input the row (1-4): 3\n",
            "Input the column (1-4): 1\n",
            "Input the number (1-4): 2\n",
            "To continue input, choose 0. To stop input, choose -1: 0\n",
            "Input the row (1-4): 3\n",
            "Input the column (1-4): 3\n",
            "Input the number (1-4): 4\n",
            "To continue input, choose 0. To stop input, choose -1: 0\n",
            "Input the row (1-4): 4\n",
            "Input the column (1-4): 1\n",
            "Input the number (1-4): 3\n",
            "To continue input, choose 0. To stop input, choose -1: 0\n",
            "Input the row (1-4): 4\n",
            "Input the column (1-4): 3\n",
            "Input the number (1-4): 2\n",
            "To continue input, choose 0. To stop input, choose -1: -1\n",
            "Input stopped.\n",
            "\n",
            " 1   |     \n",
            "   3 | 1 2 \n",
            "----+----\n",
            " 2   | 4   \n",
            " 3   | 2   \n",
            "\n",
            "Select the search algorithm you want to use: 1-DFS, 2-Greedy Search2\n",
            "Solution found:\n",
            "\n",
            " 1 2 | 3 4 \n",
            " 4 3 | 1 2 \n",
            "----+----\n",
            " 2 1 | 4 3 \n",
            " 3 4 | 2 1 \n",
            "\n"
          ]
        }
      ]
    },
    {
      "cell_type": "code",
      "source": [
        "sudoku_agent()"
      ],
      "metadata": {
        "colab": {
          "base_uri": "https://localhost:8080/"
        },
        "id": "zqXilvtFKFLZ",
        "outputId": "f6cb3fd2-0306-4065-f375-1f8a8880f0f8"
      },
      "execution_count": null,
      "outputs": [
        {
          "output_type": "stream",
          "name": "stdout",
          "text": [
            "Welcome to 4X4 sudoku solver, please input a valid sudoku puzzle to the agent\n",
            "To end your input, type in -1\n",
            "Input the row (1-4): 1\n",
            "Input the column (1-4): 1\n",
            "Input the number (1-4): 1\n",
            "To continue input, choose 0. To stop input, choose -1: 0\n",
            "Input the row (1-4): 2\n",
            "Input the column (1-4): 2\n",
            "Input the number (1-4): 3\n",
            "To continue input, choose 0. To stop input, choose -1: 0\n",
            "Input the row (1-4): 2\n",
            "Input the column (1-4): 3\n",
            "Input the number (1-4): 1\n",
            "To continue input, choose 0. To stop input, choose -1: 0\n",
            "Input the row (1-4): 3\n",
            "Input the column (1-4): 1\n",
            "Input the number (1-4): 2\n",
            "To continue input, choose 0. To stop input, choose -1: 0\n",
            "Input the row (1-4): 2\n",
            "Input the column (1-4): 4\n",
            "Input the number (1-4): 2\n",
            "To continue input, choose 0. To stop input, choose -1: 0\n",
            "Input the row (1-4): 3\n",
            "Input the column (1-4): 3\n",
            "Input the number (1-4): 4\n",
            "To continue input, choose 0. To stop input, choose -1: 0\n",
            "Input the row (1-4): 4\n",
            "Input the column (1-4): 1\n",
            "Input the number (1-4): 3\n",
            "To continue input, choose 0. To stop input, choose -1: 0\n",
            "Input the row (1-4): 4\n",
            "Input the column (1-4): 3\n",
            "Input the number (1-4): 2\n",
            "To continue input, choose 0. To stop input, choose -1: -1\n",
            "Input stopped.\n",
            "\n",
            " 1   |     \n",
            "   3 | 1 2 \n",
            "----+----\n",
            " 2   | 4   \n",
            " 3   | 2   \n",
            "\n",
            "Select the search algorithm you want to use: 1-DFS, 2-Greedy Search1\n",
            "Solution found:\n",
            "\n",
            " 1 2 | 3 4 \n",
            " 4 3 | 1 2 \n",
            "----+----\n",
            " 2 1 | 4 3 \n",
            " 3 4 | 2 1 \n",
            "\n"
          ]
        }
      ]
    },
    {
      "cell_type": "code",
      "source": [],
      "metadata": {
        "id": "nRH0RKYPMQ41"
      },
      "execution_count": null,
      "outputs": []
    }
  ]
}